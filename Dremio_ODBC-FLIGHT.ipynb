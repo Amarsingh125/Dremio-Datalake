{
 "cells": [
  {
   "cell_type": "code",
   "execution_count": 1,
   "metadata": {},
   "outputs": [],
   "source": [
    "import pandas as pd\n",
    "import pyodbc\n",
    "import os"
   ]
  },
  {
   "cell_type": "code",
   "execution_count": 2,
   "metadata": {},
   "outputs": [],
   "source": [
    "## We will use enviornmnet variable to load the ini files which contains the DSN information, in case the connection needs to be made via DSN\n",
    "os.environ['ODBCSYSINI'] = '/Library/ODBC'"
   ]
  },
  {
   "cell_type": "code",
   "execution_count": 3,
   "metadata": {},
   "outputs": [],
   "source": [
    "## We can make connections in either of the 2 days either by loading Driver manually or via DSN\n",
    "\n",
    "driver= '/Library/Dremio/ODBC/lib/libarrow-flight-sql-odbc.dylib'\n",
    "dsn='amarflightodbcdsn'\n",
    "host='localhost'\n",
    "port=32010\n",
    "uid='amar'\n",
    "pwd='XXX'\n",
    "encryption ='false'"
   ]
  },
  {
   "cell_type": "code",
   "execution_count": 4,
   "metadata": {},
   "outputs": [],
   "source": [
    "## Below are 2 connect strings for Flight ODBC, one is with manual driver loading and another one is via DSN configured in Mac using ODBC Manager\n",
    "\n",
    "#cnxn = pyodbc.connect(\"Driver={};ConnectionType=Direct;HOST={};PORT={};AuthenticationType=Plain;UID={};PWD={};UseEncryption={}\".format(driver,host,port,uid,pwd,encryption),autocommit=True)\n",
    "cnxn = pyodbc.connect(\"DSN={};ConnectionType=Direct;HOST={};PORT={};AuthenticationType=Plain;UID={};PWD={};UseEncryption={}\".format(dsn,host,port,uid,pwd,encryption),autocommit=True)\n"
   ]
  },
  {
   "cell_type": "code",
   "execution_count": 5,
   "metadata": {},
   "outputs": [],
   "source": [
    "sql=\"select * from stage.customer limit 150\""
   ]
  },
  {
   "cell_type": "code",
   "execution_count": 6,
   "metadata": {},
   "outputs": [
    {
     "name": "stderr",
     "output_type": "stream",
     "text": [
      "/var/folders/50/8qyvdbb970gddrl11xpmjycw0000gn/T/ipykernel_3289/3593899151.py:1: UserWarning: pandas only supports SQLAlchemy connectable (engine/connection) or database string URI or sqlite3 DBAPI2 connection. Other DBAPI2 objects are not tested. Please consider using SQLAlchemy.\n",
      "  df = pd.read_sql_query(sql,cnxn)\n"
     ]
    }
   ],
   "source": [
    "df = pd.read_sql_query(sql,cnxn)"
   ]
  },
  {
   "cell_type": "code",
   "execution_count": 7,
   "metadata": {},
   "outputs": [
    {
     "data": {
      "text/html": [
       "<div>\n",
       "<style scoped>\n",
       "    .dataframe tbody tr th:only-of-type {\n",
       "        vertical-align: middle;\n",
       "    }\n",
       "\n",
       "    .dataframe tbody tr th {\n",
       "        vertical-align: top;\n",
       "    }\n",
       "\n",
       "    .dataframe thead th {\n",
       "        text-align: right;\n",
       "    }\n",
       "</style>\n",
       "<table border=\"1\" class=\"dataframe\">\n",
       "  <thead>\n",
       "    <tr style=\"text-align: right;\">\n",
       "      <th></th>\n",
       "      <th>i\u0000</th>\n",
       "      <th>g\u0000e\u0000n\u0000</th>\n",
       "      <th>d\u0000e\u0000p\u0000a\u0000r\u0000</th>\n",
       "      <th>c\u0000o\u0000u\u0000n</th>\n",
       "      <th>s\u0000a\u0000l\u0000</th>\n",
       "      <th>d\u0000a\u0000t\u0000e\u0000_\u0000o\u0000f\u0000_</th>\n",
       "      <th>p\u0000r\u0000o\u0000m\u0000o</th>\n",
       "      <th>y\u0000o\u0000y\u0000_\u0000g\u0000</th>\n",
       "      <th>s\u0000a\u0000l\u0000e\u0000</th>\n",
       "      <th>u\u0000s\u0000e\u0000r</th>\n",
       "      <th>a\u0000d\u0000d\u0000r</th>\n",
       "    </tr>\n",
       "  </thead>\n",
       "  <tbody>\n",
       "    <tr>\n",
       "      <th>0</th>\n",
       "      <td>0</td>\n",
       "      <td>MALE</td>\n",
       "      <td>IT</td>\n",
       "      <td>jp</td>\n",
       "      <td>214618</td>\n",
       "      <td>04/14/2014</td>\n",
       "      <td>NO</td>\n",
       "      <td>26</td>\n",
       "      <td>1262</td>\n",
       "      <td>174</td>\n",
       "      <td>21505 Pearl Nest Point</td>\n",
       "    </tr>\n",
       "    <tr>\n",
       "      <th>1</th>\n",
       "      <td>1</td>\n",
       "      <td>FEMALE</td>\n",
       "      <td>FINANCE</td>\n",
       "      <td>jp</td>\n",
       "      <td>291201</td>\n",
       "      <td>09/14/2014</td>\n",
       "      <td>YES</td>\n",
       "      <td>37</td>\n",
       "      <td>1173</td>\n",
       "      <td>147</td>\n",
       "      <td>22606 Broad Pumpkin Grove</td>\n",
       "    </tr>\n",
       "    <tr>\n",
       "      <th>2</th>\n",
       "      <td>2</td>\n",
       "      <td>MALE</td>\n",
       "      <td>SALES</td>\n",
       "      <td>br</td>\n",
       "      <td>199220</td>\n",
       "      <td>06/20/2011</td>\n",
       "      <td>YES</td>\n",
       "      <td>27</td>\n",
       "      <td>130</td>\n",
       "      <td>119</td>\n",
       "      <td>32620 Sunny Bear Bayou</td>\n",
       "    </tr>\n",
       "    <tr>\n",
       "      <th>3</th>\n",
       "      <td>3</td>\n",
       "      <td>MALE</td>\n",
       "      <td>FINANCE</td>\n",
       "      <td>ko</td>\n",
       "      <td>69570</td>\n",
       "      <td>02/12/2010</td>\n",
       "      <td>YES</td>\n",
       "      <td>17</td>\n",
       "      <td>6340</td>\n",
       "      <td>1016</td>\n",
       "      <td>25460 Sunny Stone Estates</td>\n",
       "    </tr>\n",
       "    <tr>\n",
       "      <th>4</th>\n",
       "      <td>4</td>\n",
       "      <td>FEMALE</td>\n",
       "      <td>IT</td>\n",
       "      <td>ru</td>\n",
       "      <td>266615</td>\n",
       "      <td>11/26/2012</td>\n",
       "      <td>YES</td>\n",
       "      <td>26</td>\n",
       "      <td>422</td>\n",
       "      <td>32</td>\n",
       "      <td>54934 Fallen Goose Shoal</td>\n",
       "    </tr>\n",
       "  </tbody>\n",
       "</table>\n",
       "</div>"
      ],
      "text/plain": [
       "   i\u0000  g\u0000e\u0000n\u0000 d\u0000e\u0000p\u0000a\u0000r\u0000 c\u0000o\u0000u\u0000n  s\u0000a\u0000l\u0000 d\u0000a\u0000t\u0000e\u0000_\u0000o\u0000f\u0000_ p\u0000r\u0000o\u0000m\u0000o  \\\n",
       "0   0    MALE         IT      jp  214618      04/14/2014        NO   \n",
       "1   1  FEMALE    FINANCE      jp  291201      09/14/2014       YES   \n",
       "2   2    MALE      SALES      br  199220      06/20/2011       YES   \n",
       "3   3    MALE    FINANCE      ko   69570      02/12/2010       YES   \n",
       "4   4  FEMALE         IT      ru  266615      11/26/2012       YES   \n",
       "\n",
       "   y\u0000o\u0000y\u0000_\u0000g\u0000  s\u0000a\u0000l\u0000e\u0000  u\u0000s\u0000e\u0000r                    a\u0000d\u0000d\u0000r  \n",
       "0          26      1262      174     21505 Pearl Nest Point  \n",
       "1          37      1173      147  22606 Broad Pumpkin Grove  \n",
       "2          27       130      119     32620 Sunny Bear Bayou  \n",
       "3          17      6340     1016  25460 Sunny Stone Estates  \n",
       "4          26       422       32   54934 Fallen Goose Shoal  "
      ]
     },
     "execution_count": 7,
     "metadata": {},
     "output_type": "execute_result"
    }
   ],
   "source": [
    "df.head()"
   ]
  },
  {
   "cell_type": "code",
   "execution_count": 8,
   "metadata": {},
   "outputs": [
    {
     "data": {
      "text/plain": [
       "(150, 11)"
      ]
     },
     "execution_count": 8,
     "metadata": {},
     "output_type": "execute_result"
    }
   ],
   "source": [
    "df.shape"
   ]
  }
 ],
 "metadata": {
  "kernelspec": {
   "display_name": "Python 3",
   "language": "python",
   "name": "python3"
  },
  "language_info": {
   "codemirror_mode": {
    "name": "ipython",
    "version": 3
   },
   "file_extension": ".py",
   "mimetype": "text/x-python",
   "name": "python",
   "nbconvert_exporter": "python",
   "pygments_lexer": "ipython3",
   "version": "3.11.8"
  }
 },
 "nbformat": 4,
 "nbformat_minor": 2
}
